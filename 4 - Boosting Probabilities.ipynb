{
 "cells": [
  {
   "cell_type": "markdown",
   "id": "fda75d18",
   "metadata": {},
   "source": [
    "# Testing boosting methods\n",
    "\n",
    "This jupyter notebook is the last part of a series of notebooks that contain code to generate the results of this [REFERENCE] paper. Here we focus on boosting probabilities.\n",
    "\n",
    "For that, there are two options:\n",
    "1. Modified an adjancency matrix: play with the random epsilon value in *is_isomorphic_p()* (or *is_isomorphic_l()*) function.\n",
    "2. Hacking the adjacency matrix: multiplying a column of the matrix corresponding to the node with lowest connectivity by a value $w$.\n",
    "\n",
    "As usual, we will start with some imports and the auxiliary functions."
   ]
  },
  {
   "cell_type": "code",
   "execution_count": 2,
   "id": "14268f57",
   "metadata": {},
   "outputs": [],
   "source": [
    "import numpy as np\n",
    "import networkx as nx\n",
    "\n",
    "import quandelibc as qc\n",
    "import perceval as pcvl"
   ]
  },
  {
   "cell_type": "markdown",
   "id": "4d97e282",
   "metadata": {},
   "source": [
    "Import of the file with the basic and auxiliary functions."
   ]
  },
  {
   "cell_type": "code",
   "execution_count": 2,
   "id": "bbea5b94",
   "metadata": {},
   "outputs": [],
   "source": [
    "import functions"
   ]
  },
  {
   "cell_type": "markdown",
   "id": "038fcd1c",
   "metadata": {},
   "source": [
    "Here we define again *perm_estimation()* function because there is a detail to consider when boosting by hacking the adjacency matrix and here it prints a warning."
   ]
  },
  {
   "cell_type": "code",
   "execution_count": 3,
   "id": "140e1c9f",
   "metadata": {},
   "outputs": [],
   "source": [
    "def perm_estimation(G, Ns, Ns_min=0):\n",
    "    if Ns_min == 0:\n",
    "        Ns_min = Ns\n",
    "\n",
    "    Sampling_Backend = pcvl.BackendFactory().get_backend(\"CliffordClifford2017\")\n",
    "    if type(G) == type(nx.Graph()):  # if we input the graph directly instead of the matrix, NetworkX will output a slightly different matrix leading to wrong results!\n",
    "        m = G.number_of_nodes()\n",
    "        print(\"Inputing a graph from a modified adjacency matrix might lead to wrong results! We advice to use the adjacency matrix directly.\")\n",
    "    else:\n",
    "        m = len(G)\n",
    "    inputState = functions.input_state(m)\n",
    "\n",
    "    U, c = functions.to_unitary(G)\n",
    "    U = pcvl.Matrix(U)\n",
    "    simulator = Sampling_Backend(U)\n",
    "\n",
    "    samples = []\n",
    "    i = 0\n",
    "    while len(samples) < Ns_min:\n",
    "        for _ in range(Ns):\n",
    "            samples.append(list(simulator.sample(pcvl.BasicState(inputState))))\n",
    "        samples = functions.post_select(samples)\n",
    "        i = i+1\n",
    "\n",
    "    print(\"Total number of samples:\", Ns*i)\n",
    "    print(\"Accepted:\", len(samples))\n",
    "    perm = (c**m)*np.sqrt(len(samples)/(Ns*i))\n",
    "    return perm"
   ]
  },
  {
   "cell_type": "markdown",
   "id": "b3a18b22",
   "metadata": {},
   "source": [
    "## Hacking the adjacency matrix\n",
    "\n",
    "Here you can test the effect of hacking the adjacency matrix. Be carefull how you handle this, NetworkX might not handle very well this type of modified adjacency matrices.\n",
    "\n",
    "Here we test for the graph on the following cell:"
   ]
  },
  {
   "cell_type": "code",
   "execution_count": 4,
   "id": "6aa2b009",
   "metadata": {},
   "outputs": [
    {
     "data": {
      "image/png": "[encoded data removed]",
      "text/plain": [
       "<Figure size 432x288 with 1 Axes>"
      ]
     },
     "metadata": {},
     "output_type": "display_data"
    }
   ],
   "source": [
    "A = np.array([[0, 1, 1, 1, 1, 0],\n",
    "              [1, 0, 1, 1, 1, 1],\n",
    "              [1, 1, 0, 1, 1, 0],\n",
    "              [1, 1, 1, 0, 1, 0],\n",
    "              [1, 1, 1, 1, 0, 0],\n",
    "              [0, 1, 0, 0, 0, 0]])\n",
    "nx.draw(nx.from_numpy_array(A))"
   ]
  },
  {
   "cell_type": "code",
   "execution_count": 43,
   "id": "953984af",
   "metadata": {},
   "outputs": [
    {
     "name": "stdout",
     "output_type": "stream",
     "text": [
      "6\n",
      "Total number of samples: 25387600\n",
      "Accepted: 100\n",
      "CPU times: user 1h 44min 9s, sys: 21.3 s, total: 1h 44min 30s\n",
      "Wall time: 1h 44min 43s\n"
     ]
    },
    {
     "data": {
      "text/plain": [
       "8.776136144625532"
      ]
     },
     "execution_count": 43,
     "metadata": {},
     "output_type": "execute_result"
    }
   ],
   "source": [
    "%%time\n",
    "B = np.copy(A)\n",
    "B[5] = B[5]*1\n",
    "perm_estimation(B, 100)/1"
   ]
  },
  {
   "cell_type": "code",
   "execution_count": 42,
   "id": "04f19a13",
   "metadata": {},
   "outputs": [
    {
     "name": "stdout",
     "output_type": "stream",
     "text": [
      "6\n",
      "Total number of samples: 8482000\n",
      "Accepted: 100\n",
      "8.693624296527505\n",
      "CPU times: user 34min 53s, sys: 7.71 s, total: 35min\n",
      "Wall time: 35min 4s\n"
     ]
    }
   ],
   "source": [
    "%%time\n",
    "B = np.copy(A)\n",
    "B[5] = B[5]*2\n",
    "a = perm_estimation(B, 100)/2\n",
    "print(a)"
   ]
  },
  {
   "cell_type": "code",
   "execution_count": 45,
   "id": "8d74b245",
   "metadata": {},
   "outputs": [
    {
     "name": "stdout",
     "output_type": "stream",
     "text": [
      "6\n",
      "Total number of samples: 7297500\n",
      "Accepted: 100\n",
      "8.61335143525163\n",
      "CPU times: user 30min 1s, sys: 7.68 s, total: 30min 9s\n",
      "Wall time: 30min 12s\n"
     ]
    }
   ],
   "source": [
    "%%time\n",
    "B = np.copy(A)\n",
    "B[5] = B[5]*3\n",
    "a = perm_estimation(B, 100)/3\n",
    "print(a)"
   ]
  },
  {
   "cell_type": "code",
   "execution_count": 46,
   "id": "7486281f",
   "metadata": {},
   "outputs": [
    {
     "name": "stdout",
     "output_type": "stream",
     "text": [
      "6\n",
      "Total number of samples: 12133600\n",
      "Accepted: 100\n",
      "9.303295439393768\n",
      "CPU times: user 50min 46s, sys: 12.1 s, total: 50min 58s\n",
      "Wall time: 51min 17s\n"
     ]
    }
   ],
   "source": [
    "%%time\n",
    "B = np.copy(A)\n",
    "B[5] = B[5]*4\n",
    "a = perm_estimation(B, 100)/4\n",
    "print(a)"
   ]
  },
  {
   "cell_type": "code",
   "execution_count": 48,
   "id": "75c7919e",
   "metadata": {},
   "outputs": [
    {
     "name": "stdout",
     "output_type": "stream",
     "text": [
      "6\n",
      "Total number of samples: 38324100\n",
      "Accepted: 100\n",
      "9.63701377801791\n",
      "CPU times: user 2h 37min 38s, sys: 30 s, total: 2h 38min 8s\n",
      "Wall time: 2h 38min 27s\n"
     ]
    }
   ],
   "source": [
    "%%time\n",
    "B = np.copy(A)\n",
    "B[5] = B[5]*5\n",
    "a = perm_estimation(B, 100)/5\n",
    "print(a)"
   ]
  },
  {
   "cell_type": "markdown",
   "id": "a38a63f5",
   "metadata": {},
   "source": [
    "The results from these last cells reproduce the results for the boosting table in the paper. \n",
    "\n",
    "Here we focused on hacking the adjacency matrix as it is the main point for boosting and leave the second method of boosting (varying epsilon values) to the reader to test. This concludes this series of notebooks."
   ]
  }
 ],
 "metadata": {
  "interpreter": {
   "hash": "765bd6793ea5362367183dba09c599ce34c84eeeb7f3172847d560f9d0858670"
  },
  "kernelspec": {
   "display_name": "Python 3.9.12 ('base')",
   "language": "python",
   "name": "python3"
  },
  "language_info": {
   "codemirror_mode": {
    "name": "ipython",
    "version": 3
   },
   "file_extension": ".py",
   "mimetype": "text/x-python",
   "name": "python",
   "nbconvert_exporter": "python",
   "pygments_lexer": "ipython3",
   "version": "3.9.12"
  }
 },
 "nbformat": 4,
 "nbformat_minor": 5
}
